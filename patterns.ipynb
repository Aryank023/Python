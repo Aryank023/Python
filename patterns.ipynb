{
 "cells": [
  {
   "cell_type": "code",
   "execution_count": 1,
   "id": "71430714-1bdc-42eb-af2e-4af8283b910a",
   "metadata": {},
   "outputs": [
    {
     "name": "stdout",
     "output_type": "stream",
     "text": [
      "True\n"
     ]
    }
   ],
   "source": [
    "a=[2,3,5,4]\n",
    "print(3 in a)"
   ]
  },
  {
   "cell_type": "code",
   "execution_count": 2,
   "id": "3f4341c7-6877-46d6-a0e5-dc7a73cfe2cd",
   "metadata": {},
   "outputs": [
    {
     "data": {
      "text/plain": [
       "False"
      ]
     },
     "execution_count": 2,
     "metadata": {},
     "output_type": "execute_result"
    }
   ],
   "source": [
    "a=9\n",
    "b=2\n",
    "a is b"
   ]
  },
  {
   "cell_type": "code",
   "execution_count": 3,
   "id": "bae537fe-af4d-479e-9754-8160be699d25",
   "metadata": {},
   "outputs": [
    {
     "data": {
      "text/plain": [
       "True"
      ]
     },
     "execution_count": 3,
     "metadata": {},
     "output_type": "execute_result"
    }
   ],
   "source": [
    "a is not b"
   ]
  },
  {
   "cell_type": "code",
   "execution_count": 5,
   "id": "63e9d24e-e1b0-44d1-a557-eedeac8f54a4",
   "metadata": {},
   "outputs": [
    {
     "name": "stdout",
     "output_type": "stream",
     "text": [
      "before swap a 2\n",
      "before swap b 3\n",
      "after swap a 3\n",
      "after swap b 2\n"
     ]
    }
   ],
   "source": [
    "a=2\n",
    "b=3\n",
    "print(\"before swap a\" ,a)\n",
    "print(\"before swap b\" ,b)\n",
    "c=a\n",
    "a=b\n",
    "b=c\n",
    "print(\"after swap a\" ,a)\n",
    "print(\"after swap b\" ,b)"
   ]
  },
  {
   "cell_type": "code",
   "execution_count": 9,
   "id": "6a75465e-0f95-4c89-a8fb-dbe97b7717a7",
   "metadata": {},
   "outputs": [
    {
     "name": "stdout",
     "output_type": "stream",
     "text": [
      "before swap a 2\n",
      "before swap b 3\n",
      "after swap a 3\n",
      "after swap b 2\n"
     ]
    }
   ],
   "source": [
    "a=2\n",
    "b=3\n",
    "print(\"before swap a\" ,a)\n",
    "print(\"before swap b\" ,b)\n",
    "\n",
    "a,b=b,a\n",
    "\n",
    "\n",
    "print(\"after swap a\" ,a)\n",
    "print(\"after swap b\" ,b)"
   ]
  },
  {
   "cell_type": "code",
   "execution_count": 13,
   "id": "d244ef79-7fd2-45dc-b5e4-cfced908d7b2",
   "metadata": {},
   "outputs": [
    {
     "name": "stdout",
     "output_type": "stream",
     "text": [
      "212.0\n"
     ]
    }
   ],
   "source": [
    "c=100\n",
    "f=c*(9/5)+32\n",
    "print(f)"
   ]
  },
  {
   "cell_type": "code",
   "execution_count": 70,
   "id": "8f181f49-b419-4a28-8ed5-16d835545997",
   "metadata": {},
   "outputs": [
    {
     "name": "stdin",
     "output_type": "stream",
     "text": [
      "Enter the unit : 280\n"
     ]
    },
    {
     "name": "stdout",
     "output_type": "stream",
     "text": [
      "317.5\n"
     ]
    }
   ],
   "source": [
    "unit=int(input(\"Enter the unit :\"))\n",
    "a=0\n",
    "b=0\n",
    "c=0\n",
    "d=0\n",
    "if(unit>0 and unit<=50):\n",
    "        a=unit*0.50\n",
    "        print(a)\n",
    "elif(unit>50 and unit<=100):\n",
    "        a=50*0.50\n",
    "        b=(unit-50)*0.75+a\n",
    "        print(b)\n",
    "elif(unit>100 and unit<150):\n",
    "        a=50*0.50\n",
    "        b=50*0.75\n",
    "        c=(unit-100)*1.20+a+b\n",
    "        print(c)\n",
    "elif( unit>150 and unit<250):\n",
    "        a=50*0.50\n",
    "        b=50*0.75\n",
    "        c=50*1.20\n",
    "        d=(unit-150)*1.50+c+a+b\n",
    "        print(d)\n",
    "elif(unit>=250):\n",
    "        a=50*0.50\n",
    "        b=50*0.75\n",
    "        c=50*1.20\n",
    "        d=(unit-150)*1.50+c+a+b\n",
    "        print(d)\n",
    "else:\n",
    "    print(\"Invalid unit\")\n",
    "\n",
    "\n"
   ]
  },
  {
   "cell_type": "code",
   "execution_count": 45,
   "id": "83dc7c15-8c3c-4e94-9acb-24310d4aef22",
   "metadata": {},
   "outputs": [
    {
     "name": "stdout",
     "output_type": "stream",
     "text": [
      "30.0\n"
     ]
    }
   ],
   "source": [
    "a=(125-100)*1.20\n",
    "print(a)"
   ]
  },
  {
   "cell_type": "code",
   "execution_count": 89,
   "id": "47a1691d-fef4-4d0b-949c-e1c32d758edf",
   "metadata": {},
   "outputs": [
    {
     "name": "stdout",
     "output_type": "stream",
     "text": [
      "the number of 500rs notes availble are : 11\n",
      "the number of 200rs notes available are 1\n"
     ]
    }
   ],
   "source": [
    "n=5520\n",
    "if(n>=500):\n",
    "    a500=n//500\n",
    "    n=n-(a500*500)\n",
    "    print(\"the number of 500rs notes availble are :\" ,a500)\n",
    "if(n>=200):\n",
    "    a200=n//200\n",
    "    n-n-(a200*200)\n",
    "    print(\"the number of 200rs notes available are\",a200)\n",
    "if(n>=100):\n",
    "    a100=n//100\n",
    "    n=n-(a100*100)\n",
    "    print(\"the number of 200rs notes available are\",a100)\n",
    "if(n>=50):\n",
    "    a50=n//50\n",
    "    n=n-(a50*50)\n",
    "    print(\"the number of 200rs notes available are\",a50)\n",
    "if(n>=20):\n",
    "    a20=n//20\n",
    "    n=n-(a20*20)\n",
    "    print(\"the number of 200rs notes available are\",a20)\n",
    "if(n>=10):\n",
    "    a10=n//10\n",
    "    n=n-(a10*10)\n",
    "    print(\"the number of 200rs notes available are\",a10)\n",
    "\n"
   ]
  },
  {
   "cell_type": "code",
   "execution_count": 94,
   "id": "65e50042-e91c-4545-a3fa-0e9dd7357722",
   "metadata": {},
   "outputs": [
    {
     "name": "stdin",
     "output_type": "stream",
     "text": [
      "enter to check it is palindrome or not aba\n"
     ]
    },
    {
     "name": "stdout",
     "output_type": "stream",
     "text": [
      "aba\n",
      "it is an palindrome\n"
     ]
    }
   ],
   "source": [
    "a=input(\"enter to check it is palindrome or not\")\n",
    "b=a[::-1]\n",
    "if(a==b):\n",
    "    print(b)\n",
    "    print(\"it is an palindrome\")\n",
    "else:\n",
    "    print(\"not an palindrome\")\n"
   ]
  },
  {
   "cell_type": "code",
   "execution_count": 97,
   "id": "722db291-47e4-47f5-ad55-fc9cb78d7355",
   "metadata": {},
   "outputs": [
    {
     "name": "stdout",
     "output_type": "stream",
     "text": [
      "3\n",
      "4\n",
      "5\n",
      "6\n",
      "7\n",
      "8\n",
      "9\n"
     ]
    }
   ],
   "source": [
    "for i in range(3,10):\n",
    "    print(i)"
   ]
  },
  {
   "cell_type": "code",
   "execution_count": 122,
   "id": "1079a1cc-8df4-49b8-a9cd-69bb1385f299",
   "metadata": {},
   "outputs": [
    {
     "name": "stdin",
     "output_type": "stream",
     "text": [
      "Enter a number 10\n",
      "enter a number to add 2\n"
     ]
    },
    {
     "name": "stdout",
     "output_type": "stream",
     "text": [
      "2\n"
     ]
    },
    {
     "name": "stdin",
     "output_type": "stream",
     "text": [
      "enter a number to add 5\n"
     ]
    },
    {
     "name": "stdout",
     "output_type": "stream",
     "text": [
      "7\n"
     ]
    },
    {
     "name": "stdin",
     "output_type": "stream",
     "text": [
      "enter a number to add 6\n"
     ]
    },
    {
     "name": "stdout",
     "output_type": "stream",
     "text": [
      "13\n"
     ]
    },
    {
     "name": "stdin",
     "output_type": "stream",
     "text": [
      "enter a number to add 7\n"
     ]
    },
    {
     "name": "stdout",
     "output_type": "stream",
     "text": [
      "20\n"
     ]
    },
    {
     "name": "stdin",
     "output_type": "stream",
     "text": [
      "enter a number to add q\n"
     ]
    },
    {
     "name": "stdout",
     "output_type": "stream",
     "text": [
      "quit\n"
     ]
    }
   ],
   "source": [
    "a=int(input(\"Enter a number\"))\n",
    "summ=0\n",
    "for i in range (1,a,1):\n",
    "   \n",
    "    b=input(\"enter a number to add\")\n",
    "    if(b==\"q\"):\n",
    "        print(\"quit\")\n",
    "        break\n",
    "    else:\n",
    "        c=int(b)\n",
    "        summ=summ+c\n",
    "        print(summ)\n",
    "    \n",
    "    \n",
    "        "
   ]
  },
  {
   "cell_type": "code",
   "execution_count": 123,
   "id": "d4bf1eb9-dcda-4173-a61c-131fce7423cf",
   "metadata": {},
   "outputs": [
    {
     "name": "stdin",
     "output_type": "stream",
     "text": [
      "enter a number 2\n"
     ]
    },
    {
     "name": "stdout",
     "output_type": "stream",
     "text": [
      "sum 2\n",
      "product 2\n"
     ]
    }
   ],
   "source": [
    "a=input(\"enter a number\")\n",
    "sum1=0\n",
    "prd=1\n",
    "while a.isdigit():\n",
    "    sum1=sum1+int(a)\n",
    "    prd=prd*int(a)\n",
    "    a=input(\"enter a number\")\n",
    "else:\n",
    "    print(\"sum\",sum1)\n",
    "    print(\"product\",prd)"
   ]
  },
  {
   "cell_type": "code",
   "execution_count": 127,
   "id": "9a7eac7e-6cd8-4f85-bc7c-f705c5b01eef",
   "metadata": {},
   "outputs": [
    {
     "name": "stdin",
     "output_type": "stream",
     "text": [
      "enter a number : 5000\n"
     ]
    },
    {
     "name": "stdout",
     "output_type": "stream",
     "text": [
      "4\n"
     ]
    }
   ],
   "source": [
    "a=int(input(\"enter a number :\"))\n",
    "print(len(str(a)))"
   ]
  },
  {
   "cell_type": "code",
   "execution_count": 156,
   "id": "fa0aeef1-824e-4183-8eb0-890358f469d6",
   "metadata": {},
   "outputs": [
    {
     "name": "stdin",
     "output_type": "stream",
     "text": [
      "enter num 15\n"
     ]
    },
    {
     "name": "stdout",
     "output_type": "stream",
     "text": [
      "0 1\n",
      "1\n",
      "2\n",
      "3\n",
      "5\n",
      "8\n",
      "13\n",
      "21\n",
      "34\n",
      "55\n",
      "89\n",
      "144\n",
      "233\n",
      "377\n",
      "sum is : 986\n"
     ]
    }
   ],
   "source": [
    "a=int(input(\"enter num\"))\n",
    "i=0\n",
    "f=0\n",
    "s=1\n",
    "summ=1\n",
    "print(f,s)\n",
    "while(i<(a-2)):\n",
    "    t=f+s\n",
    "    summ=summ+t\n",
    "    print(t)\n",
    "    f=s\n",
    "    s=t\n",
    "    i=i+1\n",
    "else:\n",
    "    print(\"sum is :\",summ)\n",
    "    "
   ]
  },
  {
   "cell_type": "code",
   "execution_count": 162,
   "id": "a77e3d57-9e07-466f-8ce2-e9103934f66a",
   "metadata": {},
   "outputs": [
    {
     "name": "stdout",
     "output_type": "stream",
     "text": [
      "*\n",
      "**\n",
      "***\n",
      "****\n"
     ]
    }
   ],
   "source": [
    "i=0\n",
    "j=0\n",
    "for i in range(1,5):\n",
    "    for j in range (1,i+1):\n",
    "        print(\"*\",end=\"\")\n",
    "    print(\"\\r\")"
   ]
  },
  {
   "cell_type": "code",
   "execution_count": 163,
   "id": "d527ac86-ebe5-4308-8285-395a6f44fea9",
   "metadata": {},
   "outputs": [
    {
     "name": "stdout",
     "output_type": "stream",
     "text": [
      "1\n",
      "22\n",
      "333\n",
      "4444\n"
     ]
    }
   ],
   "source": [
    "i=0\n",
    "j=0\n",
    "for i in range(1,5):\n",
    "    for j in range (1,i+1):\n",
    "        print(i,end=\"\")\n",
    "    print(\"\\r\")"
   ]
  },
  {
   "cell_type": "code",
   "execution_count": 164,
   "id": "782a0e65-2633-41b7-be2e-2fe46b911530",
   "metadata": {},
   "outputs": [
    {
     "name": "stdout",
     "output_type": "stream",
     "text": [
      "1\n",
      "12\n",
      "123\n",
      "1234\n"
     ]
    }
   ],
   "source": [
    "i=0\n",
    "j=0\n",
    "for i in range(1,5):\n",
    "    for j in range (1,i+1):\n",
    "        print(j,end=\"\")\n",
    "    print(\"\\r\")"
   ]
  },
  {
   "cell_type": "code",
   "execution_count": 303,
   "id": "1205f399-7f29-4131-b796-f13e773cc98c",
   "metadata": {},
   "outputs": [
    {
     "name": "stdout",
     "output_type": "stream",
     "text": [
      "*\n",
      "**\n",
      "***\n",
      "****\n"
     ]
    }
   ],
   "source": [
    "i=0\n",
    "j=1\n",
    "for i in range(1,5):\n",
    "    for j in range(1,i+1):\n",
    "         print(\"*\",end=\"\")\n",
    "    print(\"\")   \n",
    "     \n",
    "        \n",
    "    "
   ]
  },
  {
   "cell_type": "code",
   "execution_count": 318,
   "id": "19d06596-1e7a-4d8e-889a-00832d7f4318",
   "metadata": {},
   "outputs": [
    {
     "name": "stdout",
     "output_type": "stream",
     "text": [
      "   1\n",
      "  12\n",
      " 123\n",
      "1234\n"
     ]
    }
   ],
   "source": [
    "for i in range(1,5):\n",
    "    for k in range(1,5-i):\n",
    "        print(\" \", end=\"\")\n",
    "    for j in range(1,i+1):\n",
    "        print(j,end=\"\")\n",
    "    print(\"\")"
   ]
  },
  {
   "cell_type": "code",
   "execution_count": 319,
   "id": "6ae25f2e-5800-46b3-be00-c8abfd462936",
   "metadata": {},
   "outputs": [
    {
     "name": "stdout",
     "output_type": "stream",
     "text": [
      "   *\n",
      "  **\n",
      " ***\n",
      "****\n"
     ]
    }
   ],
   "source": [
    "for i in range(1,5):\n",
    "    for k in range(1,5-i):\n",
    "        print(\" \", end=\"\")\n",
    "    for j in range(1,i+1):\n",
    "        print(\"*\",end=\"\")\n",
    "    print(\"\")"
   ]
  },
  {
   "cell_type": "code",
   "execution_count": 329,
   "id": "872f9f02-c115-42b8-bea4-b177938d052d",
   "metadata": {},
   "outputs": [
    {
     "name": "stdout",
     "output_type": "stream",
     "text": [
      "     * \n",
      "    * * \n",
      "   * * * \n",
      "  * * * * \n",
      " * * * * * \n"
     ]
    }
   ],
   "source": [
    "for i in range(5):\n",
    "    for j in range(5,i,-1):\n",
    "        print(\" \", end=\"\")\n",
    "    for k in range(i+1):\n",
    "        print(\"* \",end=\"\")\n",
    "    print(\"\")"
   ]
  },
  {
   "cell_type": "code",
   "execution_count": 334,
   "id": "dcca5cff-aa82-4e59-82d6-0fbcf1a113a3",
   "metadata": {},
   "outputs": [
    {
     "name": "stdout",
     "output_type": "stream",
     "text": [
      "*****\n",
      "****\n",
      "***\n",
      "**\n",
      "*\n"
     ]
    }
   ],
   "source": [
    "for i in range(5,0,-1):\n",
    "    for j in range(1,i+1):\n",
    "            print(\"*\",end =\"\")\n",
    "    print(\"\")"
   ]
  },
  {
   "cell_type": "code",
   "execution_count": 356,
   "id": "022ee086-3ab1-49d9-a4d1-064ba10ed824",
   "metadata": {},
   "outputs": [
    {
     "name": "stdout",
     "output_type": "stream",
     "text": [
      "12345\n",
      " 1234\n",
      "  123\n",
      "   12\n",
      "    1\n"
     ]
    }
   ],
   "source": [
    "for i in range(5,0,-1):\n",
    "    for k in range(1,6-i):\n",
    "        print(\" \",end=\"\")\n",
    "    for j in range(1,i+1):\n",
    "        print(j,end=\"\")\n",
    "    print(\"\")"
   ]
  },
  {
   "cell_type": "code",
   "execution_count": 357,
   "id": "46711b67-61c6-4f55-afa4-4de2a3289889",
   "metadata": {},
   "outputs": [
    {
     "name": "stdout",
     "output_type": "stream",
     "text": [
      "*****\n",
      " ****\n",
      "  ***\n",
      "   **\n",
      "    *\n"
     ]
    }
   ],
   "source": [
    "for i in range(5,0,-1):\n",
    "    for k in range(1,6-i):\n",
    "        print(\" \",end=\"\")\n",
    "    for j in range(1,i+1):\n",
    "        print(\"*\",end=\"\")\n",
    "    print(\"\")"
   ]
  },
  {
   "cell_type": "code",
   "execution_count": 363,
   "id": "1f202e8d-bef5-4e0c-a3bb-7d1d7da1d19a",
   "metadata": {},
   "outputs": [
    {
     "name": "stdout",
     "output_type": "stream",
     "text": [
      "* * * * * \n",
      " * * * * \n",
      "  * * * \n",
      "   * * \n",
      "    * \n"
     ]
    }
   ],
   "source": [
    "for i in range(5,0,-1):\n",
    "    for j in range(5,i,-1):\n",
    "        print(\" \", end=\"\")\n",
    "    for k in range(i):\n",
    "        print(\"* \",end=\"\")\n",
    "    print(\"\")"
   ]
  },
  {
   "cell_type": "code",
   "execution_count": 422,
   "id": "600fd449-a726-426a-9222-69da1f974378",
   "metadata": {},
   "outputs": [
    {
     "name": "stdout",
     "output_type": "stream",
     "text": [
      "  * * * * *\n",
      "    * * *\n",
      "      *\n"
     ]
    }
   ],
   "source": [
    "for i in range(1,7,2):\n",
    "    for k in range(1,i+1):\n",
    "        print(\" \",end=\"\")\n",
    "    for j in range(1,7-i):\n",
    "        print(\" *\",end=\"\")\n",
    "    print(\"\")"
   ]
  },
  {
   "cell_type": "code",
   "execution_count": 415,
   "id": "fea4585f-2ccb-4865-9dae-fa7a51ce428f",
   "metadata": {},
   "outputs": [
    {
     "name": "stdout",
     "output_type": "stream",
     "text": [
      "AAAAAAA \n",
      "AAAAAA \n",
      "AAAAA \n",
      "AAAA \n",
      "AAA \n",
      "AA \n",
      "A \n"
     ]
    }
   ],
   "source": [
    "k=65\n",
    "for i in range(1,8):\n",
    "    for j in range(1,9-i):\n",
    "        print(chr(k),end=\"\")\n",
    "    print(\" \")\n",
    "    k+k+1"
   ]
  }
 ],
 "metadata": {
  "kernelspec": {
   "display_name": "Python 3 (ipykernel)",
   "language": "python",
   "name": "python3"
  },
  "language_info": {
   "codemirror_mode": {
    "name": "ipython",
    "version": 3
   },
   "file_extension": ".py",
   "mimetype": "text/x-python",
   "name": "python",
   "nbconvert_exporter": "python",
   "pygments_lexer": "ipython3",
   "version": "3.11.7"
  }
 },
 "nbformat": 4,
 "nbformat_minor": 5
}
